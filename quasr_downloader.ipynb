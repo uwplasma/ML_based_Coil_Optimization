{
 "cells": [
  {
   "cell_type": "code",
   "execution_count": 1,
   "id": "b0774c6a",
   "metadata": {},
   "outputs": [],
   "source": [
    "# Cell 3: Download and load QUASR device database\n",
    "import gzip\n",
    "import json\n",
    "from io import BytesIO\n",
    "import os\n",
    "import requests\n",
    "import pandas as pd\n",
    "from tqdm import tqdm\n",
    "from concurrent.futures import ThreadPoolExecutor, as_completed\n",
    "import time\n",
    "import numpy as np"
   ]
  },
  {
   "cell_type": "code",
   "execution_count": null,
   "id": "58deec2d",
   "metadata": {},
   "outputs": [],
   "source": [
    "# VMEC_DIR = \"quasr_vmec_files\"\n",
    "SIMSOPT_DIR = 'quasr_simsopt_files'\n",
    "LOG_CSV = \"quasr_log.csv\"\n",
    "# os.makedirs(VMEC_DIR, exist_ok=True)\n",
    "os.makedirs(SIMSOPT_DIR, exist_ok=True)\n",
    "\n",
    "NUM_WORKERS = 128\n",
    "CHUNK_SIZE = 10000\n",
    "\n",
    "MAX_RETRIES = 3\n",
    "RETRY_DELAY = 2  # seconds\n",
    "\n",
    "url = \"https://quasr.flatironinstitute.org/database.json.gz\"\n",
    "print('Downloading device database...')\n",
    "r = requests.get(url)\n",
    "r.raise_for_status()\n",
    "\n",
    "with gzip.open(BytesIO(r.content), 'rt', encoding='utf-8') as f:\n",
    "    data = json.load(f)\n",
    "\n",
    "df = pd.DataFrame(**data)\n",
    "print(f\"Loaded {len(df)} devices.\")"
   ]
  },
  {
   "cell_type": "code",
   "execution_count": null,
   "id": "885a2e0f",
   "metadata": {},
   "outputs": [],
   "source": [
    "df.to_hdf('QUASR_Stellarators.h5', key = 'full_dataset')\n",
    "# df = pd.read_hdf('QUASR_Stellarators.h5', key = 'full_dataset')\n",
    "# df_sampled = pd.read_hdf('QUASR_Stellarators.h5', key = 'general_filter_sample_3000')"
   ]
  },
  {
   "cell_type": "code",
   "execution_count": 4,
   "id": "26e16f41",
   "metadata": {},
   "outputs": [
    {
     "name": "stdout",
     "output_type": "stream",
     "text": [
      "314309 devices match your criteria.\n"
     ]
    }
   ],
   "source": [
    "# Cell 4: Apply filters to select matching devices\n",
    "filtered = df[\n",
    "    (df[\"Nfourier_coil\"] == 16) &\n",
    "    (df['qs_error'] >= -4) &\n",
    "    # (df[\"max_elongation\"] <= 10) &\n",
    "    # (df[\"aspect_ratio\"] >= 4) & (df[\"aspect_ratio\"] <= 10) &\n",
    "    (df[\"nc_per_hp\"] >= 1) & (df[\"nc_per_hp\"] <= 6) &\n",
    "    (df[\"nfp\"] >= 1) & (df[\"nfp\"] <= 5)\n",
    "].copy()\n",
    "\n",
    "print(f\"{len(filtered)} devices match your criteria.\")"
   ]
  },
  {
   "cell_type": "code",
   "execution_count": null,
   "id": "c9fd4a08",
   "metadata": {},
   "outputs": [],
   "source": [
    "# Sampling for a smaller download set\n",
    "# n_points = 3000\n",
    "# indices = np.linspace(0, len(filtered)-1, n_points, dtype=int)\n",
    "# df_sampled = filtered.iloc[indices]\n",
    "# # df_sampled.to_hdf('QUASR_Stellarators.h5', key = 'general_filter_sample_3000')"
   ]
  },
  {
   "cell_type": "code",
   "execution_count": null,
   "id": "84ff9aff",
   "metadata": {},
   "outputs": [],
   "source": [
    "# Cell 5: Define download helper functions\n",
    "# def vmec_url(device_id):\n",
    "#     '''\n",
    "#     THIS WORKS\n",
    "#     '''\n",
    "#     pid = device_id.zfill(7)\n",
    "#     return f\"https://quasr.flatironinstitute.org/nml/{pid[:4]}/input.{pid}\"\n",
    "\n",
    "def simsopt_url(device_id):\n",
    "    pid = device_id.zfill(7)\n",
    "    return f\"https://quasr.flatironinstitute.org/simsopt_serials/{pid[:4]}/serial{pid}.json\"\n"
   ]
  },
  {
   "cell_type": "code",
   "execution_count": null,
   "id": "d108e50b",
   "metadata": {},
   "outputs": [],
   "source": [
    "# Cell 6: Robust download with retries\n",
    "def download_with_retries(url: str, path: str) -> bool:\n",
    "    for attempt in range(1, MAX_RETRIES + 1):\n",
    "        try:\n",
    "            r = requests.get(url, timeout=30)\n",
    "            if r.status_code == 200:\n",
    "                with open(path, 'wb') as f:\n",
    "                    f.write(r.content)\n",
    "                return True\n",
    "            else:\n",
    "                print(f\"{url} returned status {r.status_code} (attempt {attempt})\")\n",
    "        except Exception as e:\n",
    "            print(f\"Error on {url} (attempt {attempt}): {e}\")\n",
    "        time.sleep(RETRY_DELAY)\n",
    "    return False"
   ]
  },
  {
   "cell_type": "code",
   "execution_count": null,
   "id": "c7203f45",
   "metadata": {},
   "outputs": [
    {
     "name": "stdout",
     "output_type": "stream",
     "text": [
      "3000 devices to download in 1 chunks.\n"
     ]
    }
   ],
   "source": [
    "# Cell 7: Prepare log and list of device IDs to download\n",
    "if os.path.exists(LOG_CSV):\n",
    "    log_df = pd.read_csv(LOG_CSV, dtype=str)\n",
    "else:\n",
    "    log_df = pd.DataFrame(columns=[\"ID\", 'simsopt_url', \"status\"])\n",
    "\n",
    "processed = set(log_df[\"ID\"])\n",
    "device_ids = [str(d) for d in filtered[\"ID\"] if str(d) not in processed] #this is where you change which df you want the device ids from\n",
    "chunks = [device_ids[i:i+CHUNK_SIZE] for i in range(0, len(device_ids), CHUNK_SIZE)]\n",
    "print(f\"{len(device_ids)} devices to download in {len(chunks)} chunks.\")"
   ]
  },
  {
   "cell_type": "code",
   "execution_count": null,
   "id": "d496c8b5",
   "metadata": {},
   "outputs": [
    {
     "name": "stdout",
     "output_type": "stream",
     "text": [
      "\n",
      "=== Chunk 1/1: 3000 devices ===\n"
     ]
    },
    {
     "name": "stderr",
     "output_type": "stream",
     "text": [
      "Chunk 1: 100%|██████████| 3000/3000 [02:13<00:00, 22.56it/s]"
     ]
    },
    {
     "name": "stdout",
     "output_type": "stream",
     "text": [
      "Chunk 1 completed: 3000/3000 successful.\n"
     ]
    },
    {
     "name": "stderr",
     "output_type": "stream",
     "text": [
      "\n"
     ]
    }
   ],
   "source": [
    "# Cell 8: Chunked parallel download with retries\n",
    "for idx, chunk in enumerate(chunks, start=1):\n",
    "    print(f\"\\n=== Chunk {idx}/{len(chunks)}: {len(chunk)} devices ===\")\n",
    "    results = []\n",
    "\n",
    "    def process_device(dev_id):\n",
    "        pid = dev_id.zfill(7)\n",
    "        # vmec_path = os.path.join(VMEC_DIR, f\"input.{pid}\")\n",
    "        simsopt_path = os.path.join(SIMSOPT_DIR, f\"input_{pid}.json\")\n",
    "        # vmec_ok = os.path.exists(vmec_path) or download_with_retries(vmec_url(dev_id), vmec_path)\n",
    "        simsopt_ok = os.path.exists(simsopt_path) or download_with_retries(simsopt_url(dev_id), simsopt_path)\n",
    "        status = \"success\" if simsopt_ok else 'failed'\n",
    "        return {\n",
    "            \"ID\": dev_id,\n",
    "            # \"vmec_url\": vmec_url(dev_id),\n",
    "            'simsopt_url': simsopt_url(dev_id),\n",
    "            \"status\": status\n",
    "        }\n",
    "\n",
    "    with ThreadPoolExecutor(max_workers=NUM_WORKERS) as executor:\n",
    "        futures = {executor.submit(process_device, dev): dev for dev in chunk}\n",
    "        for fut in tqdm(as_completed(futures), total=len(futures), desc=f\"Chunk {idx}\"):\n",
    "            results.append(fut.result())\n",
    "\n",
    "    log_df = pd.concat([log_df, pd.DataFrame(results)], ignore_index=True)\n",
    "    log_df.to_csv(LOG_CSV, index=False)\n",
    "    success = sum(r[\"status\"] == \"success\" for r in results)\n",
    "    print(f\"Chunk {idx} completed: {success}/{len(results)} successful.\")"
   ]
  },
  {
   "cell_type": "code",
   "execution_count": null,
   "id": "2c73ea9e",
   "metadata": {},
   "outputs": [
    {
     "name": "stdout",
     "output_type": "stream",
     "text": [
      "\n",
      "Download process complete.\n",
      "status\n",
      "success    3000\n",
      "Name: count, dtype: int64\n",
      "VMEC files in: quasr_vmec_files\n",
      "SIMSOPt files in: quasr_simsopt_files\n"
     ]
    },
    {
     "data": {
      "text/html": [
       "<div>\n",
       "<style scoped>\n",
       "    .dataframe tbody tr th:only-of-type {\n",
       "        vertical-align: middle;\n",
       "    }\n",
       "\n",
       "    .dataframe tbody tr th {\n",
       "        vertical-align: top;\n",
       "    }\n",
       "\n",
       "    .dataframe thead th {\n",
       "        text-align: right;\n",
       "    }\n",
       "</style>\n",
       "<table border=\"1\" class=\"dataframe\">\n",
       "  <thead>\n",
       "    <tr style=\"text-align: right;\">\n",
       "      <th></th>\n",
       "      <th>ID</th>\n",
       "      <th>vmec_url</th>\n",
       "      <th>simsopt_url</th>\n",
       "      <th>status</th>\n",
       "    </tr>\n",
       "  </thead>\n",
       "  <tbody>\n",
       "    <tr>\n",
       "      <th>2995</th>\n",
       "      <td>2622447</td>\n",
       "      <td>https://quasr.flatironinstitute.org/nml/2622/i...</td>\n",
       "      <td>https://quasr.flatironinstitute.org/simsopt_se...</td>\n",
       "      <td>success</td>\n",
       "    </tr>\n",
       "    <tr>\n",
       "      <th>2996</th>\n",
       "      <td>2655591</td>\n",
       "      <td>https://quasr.flatironinstitute.org/nml/2655/i...</td>\n",
       "      <td>https://quasr.flatironinstitute.org/simsopt_se...</td>\n",
       "      <td>success</td>\n",
       "    </tr>\n",
       "    <tr>\n",
       "      <th>2997</th>\n",
       "      <td>2657814</td>\n",
       "      <td>https://quasr.flatironinstitute.org/nml/2657/i...</td>\n",
       "      <td>https://quasr.flatironinstitute.org/simsopt_se...</td>\n",
       "      <td>success</td>\n",
       "    </tr>\n",
       "    <tr>\n",
       "      <th>2998</th>\n",
       "      <td>2545118</td>\n",
       "      <td>https://quasr.flatironinstitute.org/nml/2545/i...</td>\n",
       "      <td>https://quasr.flatironinstitute.org/simsopt_se...</td>\n",
       "      <td>success</td>\n",
       "    </tr>\n",
       "    <tr>\n",
       "      <th>2999</th>\n",
       "      <td>2533590</td>\n",
       "      <td>https://quasr.flatironinstitute.org/nml/2533/i...</td>\n",
       "      <td>https://quasr.flatironinstitute.org/simsopt_se...</td>\n",
       "      <td>success</td>\n",
       "    </tr>\n",
       "  </tbody>\n",
       "</table>\n",
       "</div>"
      ],
      "text/plain": [
       "           ID                                           vmec_url  \\\n",
       "2995  2622447  https://quasr.flatironinstitute.org/nml/2622/i...   \n",
       "2996  2655591  https://quasr.flatironinstitute.org/nml/2655/i...   \n",
       "2997  2657814  https://quasr.flatironinstitute.org/nml/2657/i...   \n",
       "2998  2545118  https://quasr.flatironinstitute.org/nml/2545/i...   \n",
       "2999  2533590  https://quasr.flatironinstitute.org/nml/2533/i...   \n",
       "\n",
       "                                            simsopt_url   status  \n",
       "2995  https://quasr.flatironinstitute.org/simsopt_se...  success  \n",
       "2996  https://quasr.flatironinstitute.org/simsopt_se...  success  \n",
       "2997  https://quasr.flatironinstitute.org/simsopt_se...  success  \n",
       "2998  https://quasr.flatironinstitute.org/simsopt_se...  success  \n",
       "2999  https://quasr.flatironinstitute.org/simsopt_se...  success  "
      ]
     },
     "execution_count": 10,
     "metadata": {},
     "output_type": "execute_result"
    }
   ],
   "source": [
    "print(\"\\nDownload process complete.\")\n",
    "print(log_df[\"status\"].value_counts())\n",
    "# print(f\"VMEC files in: {VMEC_DIR}\")\n",
    "print(f'SIMSOPt files in: {SIMSOPT_DIR}')\n",
    "log_df.tail()"
   ]
  }
 ],
 "metadata": {
  "kernelspec": {
   "display_name": "UWCoil",
   "language": "python",
   "name": "python3"
  },
  "language_info": {
   "codemirror_mode": {
    "name": "ipython",
    "version": 3
   },
   "file_extension": ".py",
   "mimetype": "text/x-python",
   "name": "python",
   "nbconvert_exporter": "python",
   "pygments_lexer": "ipython3",
   "version": "3.13.2"
  }
 },
 "nbformat": 4,
 "nbformat_minor": 5
}
