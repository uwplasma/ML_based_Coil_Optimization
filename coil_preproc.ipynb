{
 "cells": [
  {
   "cell_type": "code",
   "execution_count": 1,
   "id": "21961a40",
   "metadata": {},
   "outputs": [
    {
     "name": "stderr",
     "output_type": "stream",
     "text": [
      "2025-06-27 22:31:15.456103: E external/local_xla/xla/stream_executor/cuda/cuda_fft.cc:485] Unable to register cuFFT factory: Attempting to register factory for plugin cuFFT when one has already been registered\n",
      "2025-06-27 22:31:15.471163: E external/local_xla/xla/stream_executor/cuda/cuda_dnn.cc:8454] Unable to register cuDNN factory: Attempting to register factory for plugin cuDNN when one has already been registered\n",
      "2025-06-27 22:31:15.475631: E external/local_xla/xla/stream_executor/cuda/cuda_blas.cc:1452] Unable to register cuBLAS factory: Attempting to register factory for plugin cuBLAS when one has already been registered\n"
     ]
    }
   ],
   "source": [
    "import os \n",
    "import pandas as pd\n",
    "import numpy as np\n",
    "from simsopt.field import Current\n",
    "from simsopt.geo import SurfaceRZFourier\n",
    "from simsopt._core import load\n",
    "from pathlib import Path\n",
    "import os\n",
    "os.environ['TF_CPP_MIN_LOG_LEVEL'] = '2'\n",
    "import tensorflow as tf\n",
    "from concurrent.futures import ProcessPoolExecutor\n",
    "from tqdm import tqdm"
   ]
  },
  {
   "cell_type": "code",
   "execution_count": null,
   "id": "34c70d3a",
   "metadata": {},
   "outputs": [],
   "source": [
    "data_dir = Path('quasr_simsopt_files')\n",
    "output_coil_dir = Path('coil_tfrecords')\n",
    "\n",
    "MAX_COILS = 6\n",
    "FEATURES_PER_COIL = 100"
   ]
  },
  {
   "cell_type": "code",
   "execution_count": null,
   "id": "61d37542",
   "metadata": {},
   "outputs": [],
   "source": [
    "def _bytes_feature(value):\n",
    "    return tf.train.Feature(bytes_list=tf.train.BytesList(value=[value]))\n",
    "\n",
    "def _float_feature(value):\n",
    "    return tf.train.Feature(float_list=tf.train.FloatList(value=value.flatten()))\n",
    "\n",
    "def _int_feature(value):\n",
    "    return tf.train.Feature(int64_list=tf.train.Int64List(value=value))\n",
    "\n",
    "def serialize_coil(id: str, coils: np.ndarray, coil_mask: np.ndarray):\n",
    "    \"\"\"\n",
    "    coils: numpy array of shape (N+1, D), dtype float32\n",
    "    \"\"\"\n",
    "    feature = {\n",
    "        'ID': _bytes_feature(id.encode('utf-8')),\n",
    "        'coil_data': _float_feature(coils),\n",
    "        'coil_mask': _int_feature(coil_mask)\n",
    "    }\n",
    "\n",
    "    example_proto = tf.train.Example(features=tf.train.Features(feature=feature))\n",
    "    return example_proto.SerializeToString()"
   ]
  },
  {
   "cell_type": "code",
   "execution_count": 4,
   "id": "ca77294b",
   "metadata": {},
   "outputs": [],
   "source": [
    "def process_coils(file_path):\n",
    "    try:\n",
    "        id = str(file_path)[-12:-5]\n",
    "        surfaces, coils = load(str(file_path))\n",
    "        s = surfaces[-1]\n",
    "\n",
    "        num_coils = len(coils) // (s.nfp * 2)\n",
    "        num_coils = min(num_coils, MAX_COILS)\n",
    "\n",
    "        log_scaler = np.log10(coils[0].current.scale)\n",
    "        scaler_token = np.full((1, FEATURES_PER_COIL), log_scaler, dtype=np.float32)\n",
    "\n",
    "        coil_array = np.zeros((MAX_COILS + 1, FEATURES_PER_COIL), dtype=np.float32)\n",
    "        for i in range(num_coils):\n",
    "            params = coils[i].x[-99:]  # 99 Fourier + 1 current\n",
    "            curr = np.array(coils[i].current.current_to_scale.current)\n",
    "            coil_array[i] = np.append(curr, params)\n",
    "\n",
    "        coil_array[-1] = scaler_token  # context token\n",
    "\n",
    "        coil_mask = np.array([1] * num_coils + [0] * (MAX_COILS - num_coils), dtype=np.int64)\n",
    "\n",
    "        return serialize_coil(id, coil_array, coil_mask)\n",
    "        \n",
    "    except Exception as e:\n",
    "        print(f\"Failed on {file_path}: {e}\")\n",
    "        return None    "
   ]
  },
  {
   "cell_type": "code",
   "execution_count": null,
   "id": "c375fb9a",
   "metadata": {},
   "outputs": [],
   "source": [
    "def write_tfrecord_chunk(serialized_examples, output_path):\n",
    "    with tf.io.TFRecordWriter(str(output_path)) as writer:\n",
    "        for ex in serialized_examples:\n",
    "            if ex:\n",
    "                writer.write(ex)\n",
    "\n",
    "def datasets_to_tfrecords(directory: Path, output_coil_dir: Path, \n",
    "                               chunk_size=10000, num_workers=64):\n",
    "    files = list(directory.glob(\"*.json\"))\n",
    "    total_files = len(files)\n",
    "    output_coil_dir.mkdir(parents=True, exist_ok=True)\n",
    "\n",
    "    for i in range(0, total_files, chunk_size):\n",
    "        chunk_files = files[i:i + chunk_size]\n",
    "        with ProcessPoolExecutor(max_workers=num_workers) as executor:\n",
    "            serialized_examples = list(tqdm(\n",
    "                executor.map(process_coils, chunk_files),\n",
    "                total=len(chunk_files),\n",
    "                desc=f\"Chunk {i//chunk_size:03d}\"\n",
    "            ))\n",
    "\n",
    "        serialized_coils = [ex for ex in serialized_examples if ex is not None]\n",
    "\n",
    "        output_coil_path = output_coil_dir / f\"coils_chunk_{i//chunk_size:03d}.tfrecord\"\n",
    "\n",
    "        write_tfrecord_chunk(serialized_coils, output_coil_path)\n",
    "        print(f\"✅ Saved {len(serialized_coils)} coil samples to {output_coil_dir}\")\n"
   ]
  },
  {
   "cell_type": "code",
   "execution_count": null,
   "id": "c64dac50",
   "metadata": {},
   "outputs": [
    {
     "name": "stderr",
     "output_type": "stream",
     "text": [
      "Chunk 000: 100%|██████████| 3000/3000 [00:05<00:00, 535.87it/s]\n"
     ]
    },
    {
     "name": "stdout",
     "output_type": "stream",
     "text": [
      "✅ Saved 3000 coil samples to coil_tfrecords\n"
     ]
    }
   ],
   "source": [
    "datasets_to_tfrecords(directory=data_dir, output_coil_dir=output_coil_dir)"
   ]
  }
 ],
 "metadata": {
  "kernelspec": {
   "display_name": "TFCoil",
   "language": "python",
   "name": "python3"
  },
  "language_info": {
   "codemirror_mode": {
    "name": "ipython",
    "version": 3
   },
   "file_extension": ".py",
   "mimetype": "text/x-python",
   "name": "python",
   "nbconvert_exporter": "python",
   "pygments_lexer": "ipython3",
   "version": "3.10.18"
  }
 },
 "nbformat": 4,
 "nbformat_minor": 5
}
