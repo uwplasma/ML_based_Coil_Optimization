{
 "cells": [
  {
   "cell_type": "code",
   "execution_count": 1,
   "id": "d662ce20",
   "metadata": {},
   "outputs": [
    {
     "name": "stderr",
     "output_type": "stream",
     "text": [
      "2025-08-20 00:15:47.231839: I tensorflow/core/util/port.cc:153] oneDNN custom operations are on. You may see slightly different numerical results due to floating-point round-off errors from different computation orders. To turn them off, set the environment variable `TF_ENABLE_ONEDNN_OPTS=0`.\n",
      "2025-08-20 00:15:47.232760: I external/local_xla/xla/tsl/cuda/cudart_stub.cc:32] Could not find cuda drivers on your machine, GPU will not be used.\n",
      "2025-08-20 00:15:47.237064: I external/local_xla/xla/tsl/cuda/cudart_stub.cc:32] Could not find cuda drivers on your machine, GPU will not be used.\n",
      "2025-08-20 00:15:47.248041: E external/local_xla/xla/stream_executor/cuda/cuda_fft.cc:467] Unable to register cuFFT factory: Attempting to register factory for plugin cuFFT when one has already been registered\n",
      "WARNING: All log messages before absl::InitializeLog() is called are written to STDERR\n",
      "E0000 00:00:1755666947.288380   79847 cuda_dnn.cc:8579] Unable to register cuDNN factory: Attempting to register factory for plugin cuDNN when one has already been registered\n",
      "E0000 00:00:1755666947.302925   79847 cuda_blas.cc:1407] Unable to register cuBLAS factory: Attempting to register factory for plugin cuBLAS when one has already been registered\n",
      "W0000 00:00:1755666947.326060   79847 computation_placer.cc:177] computation placer already registered. Please check linkage and avoid linking the same target more than once.\n",
      "W0000 00:00:1755666947.326104   79847 computation_placer.cc:177] computation placer already registered. Please check linkage and avoid linking the same target more than once.\n",
      "W0000 00:00:1755666947.326106   79847 computation_placer.cc:177] computation placer already registered. Please check linkage and avoid linking the same target more than once.\n",
      "W0000 00:00:1755666947.326109   79847 computation_placer.cc:177] computation placer already registered. Please check linkage and avoid linking the same target more than once.\n",
      "2025-08-20 00:15:47.332506: I tensorflow/core/platform/cpu_feature_guard.cc:210] This TensorFlow binary is optimized to use available CPU instructions in performance-critical operations.\n",
      "To enable the following instructions: AVX2 AVX512F AVX512_VNNI FMA, in other operations, rebuild TensorFlow with the appropriate compiler flags.\n",
      "E0000 00:00:1755666954.407625   79847 cuda_executor.cc:1228] INTERNAL: CUDA Runtime error: Failed call to cudaGetRuntimeVersion: Error loading CUDA libraries. GPU will not be used.: Error loading CUDA libraries. GPU will not be used.\n",
      "W0000 00:00:1755666954.408094   79847 gpu_device.cc:2341] Cannot dlopen some GPU libraries. Please make sure the missing libraries mentioned above are installed properly if you would like to use GPU. Follow the guide at https://www.tensorflow.org/install/gpu for how to download and setup the required libraries for your platform.\n",
      "Skipping registering GPU devices...\n",
      "/home/isaac/anaconda3/envs/TFCoil/lib/python3.9/site-packages/tqdm/auto.py:21: TqdmWarning: IProgress not found. Please update jupyter and ipywidgets. See https://ipywidgets.readthedocs.io/en/stable/user_install.html\n",
      "  from .autonotebook import tqdm as notebook_tqdm\n",
      "2025-08-20 00:15:55,415\tINFO util.py:154 -- Missing packages: ['ipywidgets']. Run `pip install -U ipywidgets`, then restart the notebook server for rich notebook output.\n"
     ]
    }
   ],
   "source": [
    "import tensorflow as tf\n",
    "import pandas as pd\n",
    "import numpy as np\n",
    "from pathlib import Path\n",
    "tf.constant(1.0)  # Trigger basic op\n",
    "import logging\n",
    "logging.getLogger('absl').setLevel(logging.ERROR)\n",
    "from tensorflow.keras import layers\n",
    "import matplotlib.pyplot as plt\n",
    "import seaborn as sns\n",
    "import ray\n",
    "from tensorflow.keras.callbacks import TensorBoard, ModelCheckpoint\n",
    "import datetime\n",
    "import os\n",
    "import matplotlib.pyplot as plt\n",
    "from tqdm import tqdm"
   ]
  },
  {
   "cell_type": "code",
   "execution_count": 2,
   "id": "a85ba282",
   "metadata": {},
   "outputs": [],
   "source": [
    "%load_ext autoreload\n",
    "%autoreload 2\n",
    "from surface_coil_loader import load_full_dataset, load_split_datasets\n",
    "from transformers_copy import TransformerEncoder, TransformerDecoder\n",
    "from CoilAutoencoder_copy import CoilAutoencoderModel"
   ]
  },
  {
   "cell_type": "code",
   "execution_count": 3,
   "id": "cc92cbb3",
   "metadata": {},
   "outputs": [],
   "source": [
    "tfrecord_dir = Path(\"mini_surface_coil_tfrecords\")"
   ]
  },
  {
   "cell_type": "code",
   "execution_count": 4,
   "id": "df46d857",
   "metadata": {},
   "outputs": [],
   "source": [
    "def build_coil_autoencoder(hp):\n",
    "    encoder = TransformerEncoder(max_sets=6, features_per_set=100, name='coil', embed_dim=hp[\"embed_dim\"],\n",
    "        num_heads=hp[\"num_heads\"], ff_dim=hp[\"ff_dim\"], \n",
    "        num_sab_blocks=hp[\"sab_blocks\"], dropout=hp[\"enc_dropout\"])\n",
    "    \n",
    "    decoder = TransformerDecoder(name = 'coil', embed_dim=hp[\"embed_dim\"], num_heads=hp[\"num_heads\"], ff_dim=hp[\"ff_dim\"],\n",
    "        num_layers=hp[\"decoder_blocks\"], max_sets=6, features_per_set=100, dropout=hp[\"dec_dropout\"])\n",
    "    \n",
    "    autoencoder = CoilAutoencoderModel(encoder, decoder)\n",
    "    return autoencoder, encoder, decoder"
   ]
  },
  {
   "cell_type": "code",
   "execution_count": 5,
   "id": "1d862007",
   "metadata": {},
   "outputs": [],
   "source": [
    "def build_model(hp):\n",
    "    model, encoder, decoder = build_coil_autoencoder(hp)    \n",
    "    lr_schedule = tf.keras.optimizers.schedules.CosineDecay(initial_learning_rate=1e-7, decay_steps=423, \n",
    "                                                            warmup_target=hp['learning_rate'], warmup_steps=47)\n",
    "    optimizer = tf.keras.optimizers.Lion(learning_rate=lr_schedule, weight_decay=hp['weight_decay'])\n",
    "    model.compile(optimizer=optimizer)\n",
    "    return model, encoder, decoder"
   ]
  },
  {
   "cell_type": "code",
   "execution_count": 6,
   "id": "8d815fec",
   "metadata": {},
   "outputs": [],
   "source": [
    "def prepare_callbacks(log_dir, model_name=\"coil_autoencoder\"):\n",
    "    return [\n",
    "        TensorBoard(log_dir=log_dir),\n",
    "        ModelCheckpoint(\n",
    "            filepath=os.path.join(log_dir, f\"{model_name}_best.keras\"),\n",
    "            save_best_only=True,\n",
    "            monitor='val_loss'\n",
    "        )\n",
    "    ]"
   ]
  },
  {
   "cell_type": "code",
   "execution_count": 7,
   "id": "aad78307",
   "metadata": {},
   "outputs": [],
   "source": [
    "example_hp = {'batch_size': 64,\n",
    " 'embed_dim': 64,\n",
    " 'num_heads': 4,\n",
    " 'ff_dim': 128,\n",
    " 'enc_dropout': 0.03687998002549748,\n",
    " 'dec_dropout': 0.14346229179997497,\n",
    " 'learning_rate': 1.0024438630534578e-05,\n",
    " 'weight_decay': 0.0060082332950099505,\n",
    " 'sab_blocks': 1,\n",
    " 'decoder_blocks': 1}"
   ]
  },
  {
   "cell_type": "code",
   "execution_count": 8,
   "id": "c68f8bbd",
   "metadata": {},
   "outputs": [],
   "source": [
    "def train_coil_autoencoder(hp, train_ds, val_ds, epochs, steps_per_epoch, log_root=\"logs\", use_wandb=False):\n",
    "    model, encoder, decoder = build_model(hp)\n",
    "\n",
    "    run_id = datetime.datetime.now().strftime(\"%Y%m%d-%H%M%S\")\n",
    "    log_dir = os.path.join(log_root, f\"{run_id}_trial\")\n",
    "    os.makedirs(log_dir, exist_ok=True)\n",
    "\n",
    "    # total_steps = epochs * steps_per_epoch\n",
    "\n",
    "    callbacks = prepare_callbacks(log_dir)\n",
    "\n",
    "    if use_wandb:\n",
    "        import wandb\n",
    "        from wandb.keras import WandbCallback\n",
    "        wandb.init(project=\"coil_autoencoder\", config=hp)\n",
    "        callbacks.append(WandbCallback())\n",
    "\n",
    "    history = model.fit(\n",
    "        train_ds,\n",
    "        validation_data=val_ds,\n",
    "        epochs=epochs,\n",
    "        callbacks=callbacks\n",
    "    )\n",
    "\n",
    "    encoder.save(os.path.join(log_dir, \"encoder.keras\"))\n",
    "    decoder.save(os.path.join(log_dir, \"decoder.keras\"))\n",
    "    return history, encoder, decoder"
   ]
  },
  {
   "cell_type": "code",
   "execution_count": 10,
   "id": "75e02f24",
   "metadata": {},
   "outputs": [
    {
     "name": "stderr",
     "output_type": "stream",
     "text": [
      "2025-08-20 00:31:46.500930: I tensorflow/core/framework/local_rendezvous.cc:407] Local rendezvous is aborting with status: OUT_OF_RANGE: End of sequence\n"
     ]
    },
    {
     "name": "stdout",
     "output_type": "stream",
     "text": [
      "Epoch 1/10\n"
     ]
    },
    {
     "name": "stderr",
     "output_type": "stream",
     "text": [
      "2025-08-20 00:31:51.398205: E tensorflow/core/util/util.cc:131] oneDNN supports DT_INT32 only on platforms with AVX-512. Falling back to the default Eigen-based implementation if present.\n"
     ]
    },
    {
     "name": "stdout",
     "output_type": "stream",
     "text": [
      "     37/Unknown \u001b[1m6s\u001b[0m 30ms/step - coil_loss: 0.3234 - loss: 25.7124 - mae: 0.7012 - scaler_loss: 25.3890 - unmasked_mse: 0.7618"
     ]
    },
    {
     "name": "stderr",
     "output_type": "stream",
     "text": [
      "/home/isaac/anaconda3/envs/TFCoil/lib/python3.9/site-packages/keras/src/trainers/epoch_iterator.py:160: UserWarning: Your input ran out of data; interrupting training. Make sure that your dataset or generator can generate at least `steps_per_epoch * epochs` batches. You may need to use the `.repeat()` function when building your dataset.\n",
      "  self._interrupted_warning()\n"
     ]
    },
    {
     "name": "stdout",
     "output_type": "stream",
     "text": [
      "\u001b[1m38/38\u001b[0m \u001b[32m━━━━━━━━━━━━━━━━━━━━\u001b[0m\u001b[37m\u001b[0m \u001b[1m7s\u001b[0m 44ms/step - coil_loss: 0.3221 - loss: 25.2912 - mae: 0.7018 - scaler_loss: 24.9692 - unmasked_mse: 0.7635 - val_coil_loss: 0.3710 - val_loss: 15.0974 - val_mae: 0.7153 - val_scaler_loss: 14.7264 - val_unmasked_mse: 0.7932\n",
      "Epoch 2/10\n"
     ]
    },
    {
     "name": "stderr",
     "output_type": "stream",
     "text": [
      "2025-08-20 00:31:53.803856: I tensorflow/core/framework/local_rendezvous.cc:407] Local rendezvous is aborting with status: OUT_OF_RANGE: End of sequence\n",
      "\t [[{{node IteratorGetNext}}]]\n",
      "/home/isaac/anaconda3/envs/TFCoil/lib/python3.9/site-packages/keras/src/saving/saving_api.py:107: UserWarning: You are saving a model that has not yet been built. It might not contain any weights yet. Consider building the model first by calling it on some data.\n",
      "  return saving_lib.save_model(model, filepath)\n"
     ]
    },
    {
     "name": "stdout",
     "output_type": "stream",
     "text": [
      "\u001b[1m38/38\u001b[0m \u001b[32m━━━━━━━━━━━━━━━━━━━━\u001b[0m\u001b[37m\u001b[0m \u001b[1m2s\u001b[0m 42ms/step - coil_loss: 0.3770 - loss: 8.1213 - mae: 0.7293 - scaler_loss: 7.7443 - unmasked_mse: 0.8725 - val_coil_loss: 0.4584 - val_loss: 2.2284 - val_mae: 0.7467 - val_scaler_loss: 1.7700 - val_unmasked_mse: 0.9703\n",
      "Epoch 3/10\n",
      "\u001b[1m38/38\u001b[0m \u001b[32m━━━━━━━━━━━━━━━━━━━━\u001b[0m\u001b[37m\u001b[0m \u001b[1m2s\u001b[0m 36ms/step - coil_loss: 0.4337 - loss: 1.8631 - mae: 0.7416 - scaler_loss: 1.4294 - unmasked_mse: 0.9962 - val_coil_loss: 0.5043 - val_loss: 0.6759 - val_mae: 0.7413 - val_scaler_loss: 0.1716 - val_unmasked_mse: 1.0635\n",
      "Epoch 4/10\n"
     ]
    },
    {
     "name": "stderr",
     "output_type": "stream",
     "text": [
      "2025-08-20 00:31:58.410234: I tensorflow/core/framework/local_rendezvous.cc:407] Local rendezvous is aborting with status: OUT_OF_RANGE: End of sequence\n",
      "\t [[{{node IteratorGetNext}}]]\n"
     ]
    },
    {
     "name": "stdout",
     "output_type": "stream",
     "text": [
      "\u001b[1m38/38\u001b[0m \u001b[32m━━━━━━━━━━━━━━━━━━━━\u001b[0m\u001b[37m\u001b[0m \u001b[1m2s\u001b[0m 33ms/step - coil_loss: 0.4555 - loss: 0.9398 - mae: 0.7368 - scaler_loss: 0.4843 - unmasked_mse: 1.0492 - val_coil_loss: 0.5202 - val_loss: 0.5227 - val_mae: 0.7342 - val_scaler_loss: 0.0025 - val_unmasked_mse: 1.0946\n",
      "Epoch 5/10\n",
      "\u001b[1m38/38\u001b[0m \u001b[32m━━━━━━━━━━━━━━━━━━━━\u001b[0m\u001b[37m\u001b[0m \u001b[1m2s\u001b[0m 32ms/step - coil_loss: 0.4617 - loss: 0.6526 - mae: 0.7299 - scaler_loss: 0.1908 - unmasked_mse: 1.0637 - val_coil_loss: 0.5239 - val_loss: 0.5489 - val_mae: 0.7230 - val_scaler_loss: 0.0250 - val_unmasked_mse: 1.1011\n",
      "Epoch 6/10\n",
      "\u001b[1m38/38\u001b[0m \u001b[32m━━━━━━━━━━━━━━━━━━━━\u001b[0m\u001b[37m\u001b[0m \u001b[1m2s\u001b[0m 31ms/step - coil_loss: 0.4629 - loss: 0.5817 - mae: 0.7211 - scaler_loss: 0.1188 - unmasked_mse: 1.0663 - val_coil_loss: 0.5225 - val_loss: 0.6093 - val_mae: 0.7108 - val_scaler_loss: 0.0868 - val_unmasked_mse: 1.0974\n",
      "Epoch 7/10\n",
      "\u001b[1m38/38\u001b[0m \u001b[32m━━━━━━━━━━━━━━━━━━━━\u001b[0m\u001b[37m\u001b[0m \u001b[1m2s\u001b[0m 32ms/step - coil_loss: 0.4610 - loss: 0.5594 - mae: 0.7124 - scaler_loss: 0.0984 - unmasked_mse: 1.0612 - val_coil_loss: 0.5171 - val_loss: 0.6523 - val_mae: 0.6993 - val_scaler_loss: 0.1352 - val_unmasked_mse: 1.0855\n",
      "Epoch 8/10\n"
     ]
    },
    {
     "name": "stderr",
     "output_type": "stream",
     "text": [
      "2025-08-20 00:32:06.671418: I tensorflow/core/framework/local_rendezvous.cc:407] Local rendezvous is aborting with status: OUT_OF_RANGE: End of sequence\n",
      "\t [[{{node IteratorGetNext}}]]\n"
     ]
    },
    {
     "name": "stdout",
     "output_type": "stream",
     "text": [
      "\u001b[1m38/38\u001b[0m \u001b[32m━━━━━━━━━━━━━━━━━━━━\u001b[0m\u001b[37m\u001b[0m \u001b[1m2s\u001b[0m 32ms/step - coil_loss: 0.4585 - loss: 0.5513 - mae: 0.7036 - scaler_loss: 0.0929 - unmasked_mse: 1.0488 - val_coil_loss: 0.5082 - val_loss: 0.6518 - val_mae: 0.6903 - val_scaler_loss: 0.1436 - val_unmasked_mse: 1.0662\n",
      "Epoch 9/10\n",
      "\u001b[1m38/38\u001b[0m \u001b[32m━━━━━━━━━━━━━━━━━━━━\u001b[0m\u001b[37m\u001b[0m \u001b[1m2s\u001b[0m 31ms/step - coil_loss: 0.4467 - loss: 0.5296 - mae: 0.6948 - scaler_loss: 0.0829 - unmasked_mse: 1.0307 - val_coil_loss: 0.4985 - val_loss: 0.6238 - val_mae: 0.6829 - val_scaler_loss: 0.1253 - val_unmasked_mse: 1.0454\n",
      "Epoch 10/10\n",
      "\u001b[1m38/38\u001b[0m \u001b[32m━━━━━━━━━━━━━━━━━━━━\u001b[0m\u001b[37m\u001b[0m \u001b[1m2s\u001b[0m 36ms/step - coil_loss: 0.4398 - loss: 0.5122 - mae: 0.6880 - scaler_loss: 0.0724 - unmasked_mse: 1.0129 - val_coil_loss: 0.4908 - val_loss: 0.5937 - val_mae: 0.6777 - val_scaler_loss: 0.1029 - val_unmasked_mse: 1.0289\n"
     ]
    }
   ],
   "source": [
    "train_ds, val_ds, test_ds = load_split_datasets(tfrecord_dir, batch_size=example_hp[\"batch_size\"])\n",
    "\n",
    "history, encoder, decoder = train_coil_autoencoder(\n",
    "    hp=example_hp,\n",
    "    train_ds=train_ds,\n",
    "    val_ds=val_ds,\n",
    "    epochs=10,\n",
    "    steps_per_epoch=47,\n",
    "    log_root=\"coil_logs\",\n",
    "    use_wandb=False\n",
    ")"
   ]
  },
  {
   "cell_type": "code",
   "execution_count": 34,
   "id": "796c68c7",
   "metadata": {},
   "outputs": [
    {
     "data": {
      "text/plain": [
       "<Axes: >"
      ]
     },
     "execution_count": 34,
     "metadata": {},
     "output_type": "execute_result"
    },
    {
     "data": {
      "image/png": "[encoded data removed]",
      "text/plain": [
       "<Figure size 640x480 with 1 Axes>"
      ]
     },
     "metadata": {},
     "output_type": "display_data"
    }
   ],
   "source": [
    "pd.DataFrame(history.history).plot()"
   ]
  },
  {
   "cell_type": "code",
   "execution_count": 17,
   "id": "df8cc73b",
   "metadata": {},
   "outputs": [],
   "source": [
    "batched_dataset = load_full_dataset(tfrecord_dir, batch_size = example_hp['batch_size'])"
   ]
  },
  {
   "cell_type": "code",
   "execution_count": 40,
   "id": "3f6fe8f1",
   "metadata": {},
   "outputs": [],
   "source": [
    "from transformers import SelfAttentionBlock, PoolingByMultiheadAttention\n",
    "# encoder = tf.keras.models.load_model('coil_logs/20250812-152016_trial/encoder.keras', safe_mode=False)\n",
    "encoder = tf.keras.models.load_model(\n",
    "    \"coil_logs/20250817-144615_trial/encoder.keras\",\n",
    "    custom_objects={\"SelfAttentionBlock\": SelfAttentionBlock, \n",
    "                    'PoolingByMultiheadAttention': PoolingByMultiheadAttention},\n",
    "    safe_mode=False, compile=False\n",
    ")"
   ]
  },
  {
   "cell_type": "code",
   "execution_count": 41,
   "id": "2e531070",
   "metadata": {},
   "outputs": [
    {
     "ename": "AttributeError",
     "evalue": "Exception encountered when calling Lambda.call().\n\n\u001b[1m'dict' object has no attribute 'ones_like'\u001b[0m\n\nArguments received by Lambda.call():\n  • inputs=tf.Tensor(shape=(64, 6), dtype=float32)\n  • mask=None\n  • training=False",
     "output_type": "error",
     "traceback": [
      "\u001b[0;31m---------------------------------------------------------------------------\u001b[0m",
      "\u001b[0;31mAttributeError\u001b[0m                            Traceback (most recent call last)",
      "Cell \u001b[0;32mIn[41], line 7\u001b[0m\n\u001b[1;32m      4\u001b[0m surface_data \u001b[38;5;241m=\u001b[39m batch[\u001b[38;5;124m\"\u001b[39m\u001b[38;5;124msurface_data\u001b[39m\u001b[38;5;124m\"\u001b[39m]  \u001b[38;5;66;03m# assumes surface is already included in parse_tfrecord_fn\u001b[39;00m\n\u001b[1;32m      5\u001b[0m surface_mask \u001b[38;5;241m=\u001b[39m batch[\u001b[38;5;124m'\u001b[39m\u001b[38;5;124msurface_mask\u001b[39m\u001b[38;5;124m'\u001b[39m]\n\u001b[0;32m----> 7\u001b[0m coil_latents \u001b[38;5;241m=\u001b[39m \u001b[43mencoder\u001b[49m\u001b[43m(\u001b[49m\n\u001b[1;32m      8\u001b[0m \u001b[43m        \u001b[49m\u001b[43m{\u001b[49m\u001b[38;5;124;43m\"\u001b[39;49m\u001b[38;5;124;43mcoil_data\u001b[39;49m\u001b[38;5;124;43m\"\u001b[39;49m\u001b[43m:\u001b[49m\u001b[43m \u001b[49m\u001b[43mcoil_data\u001b[49m\u001b[43m,\u001b[49m\u001b[43m \u001b[49m\u001b[38;5;124;43m\"\u001b[39;49m\u001b[38;5;124;43mcoil_mask\u001b[39;49m\u001b[38;5;124;43m\"\u001b[39;49m\u001b[43m:\u001b[49m\u001b[43m \u001b[49m\u001b[43mcoil_mask\u001b[49m\u001b[43m}\u001b[49m\u001b[43m,\u001b[49m\n\u001b[1;32m      9\u001b[0m \u001b[43m        \u001b[49m\u001b[43mtraining\u001b[49m\u001b[38;5;241;43m=\u001b[39;49m\u001b[38;5;28;43;01mFalse\u001b[39;49;00m\n\u001b[1;32m     10\u001b[0m \u001b[43m    \u001b[49m\u001b[43m)\u001b[49m\n",
      "File \u001b[0;32m~/anaconda3/envs/TFCoil/lib/python3.9/site-packages/keras/src/utils/traceback_utils.py:122\u001b[0m, in \u001b[0;36mfilter_traceback.<locals>.error_handler\u001b[0;34m(*args, **kwargs)\u001b[0m\n\u001b[1;32m    119\u001b[0m     filtered_tb \u001b[38;5;241m=\u001b[39m _process_traceback_frames(e\u001b[38;5;241m.\u001b[39m__traceback__)\n\u001b[1;32m    120\u001b[0m     \u001b[38;5;66;03m# To get the full stack trace, call:\u001b[39;00m\n\u001b[1;32m    121\u001b[0m     \u001b[38;5;66;03m# `keras.config.disable_traceback_filtering()`\u001b[39;00m\n\u001b[0;32m--> 122\u001b[0m     \u001b[38;5;28;01mraise\u001b[39;00m e\u001b[38;5;241m.\u001b[39mwith_traceback(filtered_tb) \u001b[38;5;28;01mfrom\u001b[39;00m\u001b[38;5;250m \u001b[39m\u001b[38;5;28;01mNone\u001b[39;00m\n\u001b[1;32m    123\u001b[0m \u001b[38;5;28;01mfinally\u001b[39;00m:\n\u001b[1;32m    124\u001b[0m     \u001b[38;5;28;01mdel\u001b[39;00m filtered_tb\n",
      "File \u001b[0;32m~/UWPlasma/transformers.py:126\u001b[0m, in \u001b[0;36mTransformerEncoder.<locals>.<lambda>\u001b[0;34m(m)\u001b[0m\n\u001b[1;32m    123\u001b[0m \u001b[38;5;66;03m# Project input coils to embed_dim\u001b[39;00m\n\u001b[1;32m    124\u001b[0m x \u001b[38;5;241m=\u001b[39m layers\u001b[38;5;241m.\u001b[39mDense(embed_dim)(\u001b[38;5;28minput\u001b[39m)\n\u001b[0;32m--> 126\u001b[0m ones \u001b[38;5;241m=\u001b[39m layers\u001b[38;5;241m.\u001b[39mLambda(\u001b[38;5;28;01mlambda\u001b[39;00m m: \u001b[43mtf\u001b[49m\u001b[38;5;241;43m.\u001b[39;49m\u001b[43mones_like\u001b[49m(m[\u001b[38;5;241m.\u001b[39m\u001b[38;5;241m.\u001b[39m\u001b[38;5;241m.\u001b[39m, :\u001b[38;5;241m1\u001b[39m]), name\u001b[38;5;241m=\u001b[39m\u001b[38;5;124m\"\u001b[39m\u001b[38;5;124mscalar_mask\u001b[39m\u001b[38;5;124m\"\u001b[39m, output_shape\u001b[38;5;241m=\u001b[39m(\u001b[38;5;241m1\u001b[39m,))(mask)\n\u001b[1;32m    127\u001b[0m full_mask \u001b[38;5;241m=\u001b[39m layers\u001b[38;5;241m.\u001b[39mConcatenate(axis\u001b[38;5;241m=\u001b[39m\u001b[38;5;241m-\u001b[39m\u001b[38;5;241m1\u001b[39m, name\u001b[38;5;241m=\u001b[39m\u001b[38;5;124m\"\u001b[39m\u001b[38;5;124mfull_mask\u001b[39m\u001b[38;5;124m\"\u001b[39m)([mask, ones])\n\u001b[1;32m    128\u001b[0m full_mask \u001b[38;5;241m=\u001b[39m layers\u001b[38;5;241m.\u001b[39mLambda(\u001b[38;5;28;01mlambda\u001b[39;00m m: tf\u001b[38;5;241m.\u001b[39mcast(m, tf\u001b[38;5;241m.\u001b[39mfloat32), output_shape\u001b[38;5;241m=\u001b[39m(\u001b[38;5;28;01mNone\u001b[39;00m,))(full_mask)\n",
      "\u001b[0;31mAttributeError\u001b[0m: Exception encountered when calling Lambda.call().\n\n\u001b[1m'dict' object has no attribute 'ones_like'\u001b[0m\n\nArguments received by Lambda.call():\n  • inputs=tf.Tensor(shape=(64, 6), dtype=float32)\n  • mask=None\n  • training=False"
     ]
    }
   ],
   "source": [
    "for batch, _ in batched_dataset.take(1):\n",
    "    coil_data = batch[\"coil_data\"]\n",
    "    coil_mask = batch[\"coil_mask\"]\n",
    "    surface_data = batch[\"surface_data\"]  # assumes surface is already included in parse_tfrecord_fn\n",
    "    surface_mask = batch['surface_mask']\n",
    "\n",
    "    coil_latents = encoder(\n",
    "            {\"coil_data\": coil_data, \"coil_mask\": coil_mask},\n",
    "            training=False\n",
    "        )"
   ]
  },
  {
   "cell_type": "code",
   "execution_count": 14,
   "id": "a7bca71d",
   "metadata": {},
   "outputs": [],
   "source": [
    "import numpy as np\n",
    "import tensorflow as tf\n",
    "\n",
    "def _float_feature(value):\n",
    "    \"\"\"Returns a float_list from a tensor, numpy array, or list.\"\"\"\n",
    "    if isinstance(value, tf.Tensor):\n",
    "        value = value.numpy()\n",
    "    return tf.train.Feature(float_list=tf.train.FloatList(value=value.reshape(-1).astype(np.float32)))\n",
    "\n",
    "def _int64_feature(value):\n",
    "    \"\"\"Returns an int64_list from a tensor, numpy array, or list.\"\"\"\n",
    "    if isinstance(value, tf.Tensor):\n",
    "        value = value.numpy()\n",
    "    return tf.train.Feature(int64_list=tf.train.Int64List(value=value.reshape(-1).astype(np.int64)))\n",
    "\n",
    "def serialize_example(coil_data, coil_mask, surface_data, surface_mask, coil_latent):\n",
    "    feature = {\n",
    "        \"coil_data\": _float_feature(coil_data),         # (TOTAL_ROWS, FEATURES_PER_COIL)\n",
    "        \"coil_mask\": _int64_feature(coil_mask),         # (MAX_COILS,)\n",
    "        \"surface_data\": _float_feature(surface_data),   # (TOTAL_SETS, FEATURES_PER_SET)\n",
    "        \"surface_mask\": _int64_feature(surface_mask),   # (TOTAL_SETS,)\n",
    "        \"coil_latent\": _float_feature(coil_latent),     # (latent_dim,)\n",
    "    }\n",
    "    example = tf.train.Example(features=tf.train.Features(feature=feature))\n",
    "    return example.SerializeToString()\n"
   ]
  },
  {
   "cell_type": "code",
   "execution_count": 15,
   "id": "236c3a7b",
   "metadata": {},
   "outputs": [],
   "source": [
    "def write_latent_augmented_tfrecord(dataset, encoder, output_dir, max_records_per_file=10000):\n",
    "    os.makedirs(output_dir, exist_ok=True)\n",
    "    file_count = 0\n",
    "    record_count = 0\n",
    "    writer = None\n",
    "\n",
    "    for batch, _ in tqdm(dataset, desc=\"Encoding & Writing\"):\n",
    "        coil_data = batch[\"coil_data\"]\n",
    "        coil_mask = batch[\"coil_mask\"]\n",
    "        surface_data = batch[\"surface_data\"]  # assumes surface is already included in parse_tfrecord_fn\n",
    "        surface_mask = batch['surface_mask']\n",
    "\n",
    "        # Predict latents\n",
    "        coil_latents = encoder(\n",
    "            {\"coil_data\": coil_data, \"coil_mask\": coil_mask},\n",
    "            training=False\n",
    "        )\n",
    "\n",
    "        for i in range(coil_data.shape[0]):\n",
    "            if writer is None or record_count >= max_records_per_file:\n",
    "                if writer:\n",
    "                    writer.close()\n",
    "                tfrecord_path = os.path.join(output_dir, f\"augmented_{file_count:03d}.tfrecord\")\n",
    "                writer = tf.io.TFRecordWriter(tfrecord_path)\n",
    "                file_count += 1\n",
    "                record_count = 0\n",
    "\n",
    "            serialized = serialize_example(coil_data[i], coil_mask[i], surface_data[i], surface_mask[i], coil_latents[i])\n",
    "            writer.write(serialized)\n",
    "            record_count += 1\n",
    "\n",
    "    if writer:\n",
    "        writer.close()\n"
   ]
  },
  {
   "cell_type": "code",
   "execution_count": null,
   "id": "9dce9a29",
   "metadata": {},
   "outputs": [],
   "source": [
    "latent_dir = Path('mini_latents_tfrecords')\n",
    "write_latent_augmented_tfrecord(batched_dataset, encoder, latent_dir)"
   ]
  }
 ],
 "metadata": {
  "kernelspec": {
   "display_name": "TFCoil",
   "language": "python",
   "name": "python3"
  },
  "language_info": {
   "codemirror_mode": {
    "name": "ipython",
    "version": 3
   },
   "file_extension": ".py",
   "mimetype": "text/x-python",
   "name": "python",
   "nbconvert_exporter": "python",
   "pygments_lexer": "ipython3",
   "version": "3.9.23"
  }
 },
 "nbformat": 4,
 "nbformat_minor": 5
}
